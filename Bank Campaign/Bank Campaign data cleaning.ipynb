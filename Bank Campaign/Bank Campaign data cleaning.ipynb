{
 "cells": [
  {
   "cell_type": "markdown",
   "id": "cbd9ee97-0862-4c9b-803e-9bf5db208ba7",
   "metadata": {},
   "source": [
    "\n",
    "You have been asked to work with a bank to clean the data they collected as part of a recent marketing campaign, which aimed to get customers to take out a personal loan. They plan to conduct more marketing campaigns going forward so would like you to ensure it conforms to the specific structure and data types that they specify so that they can then use the cleaned data you provide to set up a PostgreSQL database, which will store this campaign's data and allow data from future campaigns to be easily imported. \n",
    "\n",
    "They have supplied you with a csv file called `\"bank_marketing.csv\"`, which you will need to clean, reformat, and split the data, saving three final csv files. Specifically, the three files should have the names and contents as outlined below:\n",
    "\n",
    "## `client.csv`\n",
    "\n",
    "| column | data type | description | cleaning requirements |\n",
    "|--------|-----------|-------------|-----------------------|\n",
    "| `client_id` | `integer` | Client ID | N/A |\n",
    "| `age` | `integer` | Client's age in years | N/A |\n",
    "| `job` | `object` | Client's type of job | Change `\".\"` to `\"_\"` |\n",
    "| `marital` | `object` | Client's marital status | N/A |\n",
    "| `education` | `object` | Client's level of education | Change `\".\"` to `\"_\"` and `\"unknown\"` to `np.NaN` |\n",
    "| `credit_default` | `bool` | Whether the client's credit is in default | Convert to `boolean` data type:<br> `1` if `\"yes\"`, otherwise `0` |\n",
    "| `mortgage` | `bool` | Whether the client has an existing mortgage (housing loan) | Convert to boolean data type:<br> `1` if `\"yes\"`, otherwise `0` |\n",
    "\n",
    "<br>\n",
    "\n",
    "## `campaign.csv`\n",
    "\n",
    "| column | data type | description | cleaning requirements |\n",
    "|--------|-----------|-------------|-----------------------|\n",
    "| `client_id` | `integer` | Client ID | N/A |\n",
    "| `number_contacts` | `integer` | Number of contact attempts to the client in the current campaign | N/A |\n",
    "| `contact_duration` | `integer` | Last contact duration in seconds | N/A |\n",
    "| `previous_campaign_contacts` | `integer` | Number of contact attempts to the client in the previous campaign | N/A |\n",
    "| `previous_outcome` | `bool` | Outcome of the previous campaign | Convert to boolean data type:<br> `1` if `\"success\"`, otherwise `0`. |\n",
    "| `campaign_outcome` | `bool` | Outcome of the current campaign | Convert to boolean data type:<br> `1` if `\"yes\"`, otherwise `0`. |\n",
    "| `last_contact_date` | `datetime` | Last date the client was contacted | Create from a combination of `day`, `month`, and a newly created `year` column (which should have a value of `2022`); <br> **Format =** `\"YYYY-MM-DD\"` |\n",
    "\n",
    "<br>\n",
    "\n",
    "## `economics.csv`\n",
    "\n",
    "| column | data type | description | cleaning requirements |\n",
    "|--------|-----------|-------------|-----------------------|\n",
    "| `client_id` | `integer` | Client ID | N/A |\n",
    "| `cons_price_idx` | `float` | Consumer price index (monthly indicator) | N/A |\n",
    "| `euribor_three_months` | `float` | Euro Interbank Offered Rate (euribor) three-month rate (daily indicator) | N/A |"
   ]
  },
  {
   "cell_type": "code",
   "execution_count": 1,
   "id": "11935a7b-d0bf-49e1-a89d-3c4f0d10237a",
   "metadata": {},
   "outputs": [],
   "source": [
    "import numpy as np\n",
    "import pandas as pd\n"
   ]
  },
  {
   "cell_type": "code",
   "execution_count": 2,
   "id": "d113a2d1-f397-4dbd-9931-b52e15469bb1",
   "metadata": {},
   "outputs": [],
   "source": [
    "df=pd.read_csv (r\"C:\\Users\\PMLS\\Downloads\\workspace (1) 2\\workspace\\bank_marketing.csv\")"
   ]
  },
  {
   "cell_type": "code",
   "execution_count": 5,
   "id": "b2946358-1531-4bab-b0f2-5f3e0931e3e1",
   "metadata": {},
   "outputs": [
    {
     "data": {
      "text/html": [
       "<div>\n",
       "<style scoped>\n",
       "    .dataframe tbody tr th:only-of-type {\n",
       "        vertical-align: middle;\n",
       "    }\n",
       "\n",
       "    .dataframe tbody tr th {\n",
       "        vertical-align: top;\n",
       "    }\n",
       "\n",
       "    .dataframe thead th {\n",
       "        text-align: right;\n",
       "    }\n",
       "</style>\n",
       "<table border=\"1\" class=\"dataframe\">\n",
       "  <thead>\n",
       "    <tr style=\"text-align: right;\">\n",
       "      <th></th>\n",
       "      <th>client_id</th>\n",
       "      <th>age</th>\n",
       "      <th>job</th>\n",
       "      <th>marital</th>\n",
       "      <th>education</th>\n",
       "      <th>credit_default</th>\n",
       "      <th>mortgage</th>\n",
       "      <th>month</th>\n",
       "      <th>day</th>\n",
       "      <th>contact_duration</th>\n",
       "      <th>number_contacts</th>\n",
       "      <th>previous_campaign_contacts</th>\n",
       "      <th>previous_outcome</th>\n",
       "      <th>cons_price_idx</th>\n",
       "      <th>euribor_three_months</th>\n",
       "      <th>campaign_outcome</th>\n",
       "    </tr>\n",
       "  </thead>\n",
       "  <tbody>\n",
       "    <tr>\n",
       "      <th>0</th>\n",
       "      <td>0</td>\n",
       "      <td>56</td>\n",
       "      <td>housemaid</td>\n",
       "      <td>married</td>\n",
       "      <td>basic.4y</td>\n",
       "      <td>no</td>\n",
       "      <td>no</td>\n",
       "      <td>may</td>\n",
       "      <td>13</td>\n",
       "      <td>261</td>\n",
       "      <td>1</td>\n",
       "      <td>0</td>\n",
       "      <td>nonexistent</td>\n",
       "      <td>93.994</td>\n",
       "      <td>4.857</td>\n",
       "      <td>no</td>\n",
       "    </tr>\n",
       "    <tr>\n",
       "      <th>1</th>\n",
       "      <td>1</td>\n",
       "      <td>57</td>\n",
       "      <td>services</td>\n",
       "      <td>married</td>\n",
       "      <td>high.school</td>\n",
       "      <td>unknown</td>\n",
       "      <td>no</td>\n",
       "      <td>may</td>\n",
       "      <td>19</td>\n",
       "      <td>149</td>\n",
       "      <td>1</td>\n",
       "      <td>0</td>\n",
       "      <td>nonexistent</td>\n",
       "      <td>93.994</td>\n",
       "      <td>4.857</td>\n",
       "      <td>no</td>\n",
       "    </tr>\n",
       "    <tr>\n",
       "      <th>2</th>\n",
       "      <td>2</td>\n",
       "      <td>37</td>\n",
       "      <td>services</td>\n",
       "      <td>married</td>\n",
       "      <td>high.school</td>\n",
       "      <td>no</td>\n",
       "      <td>yes</td>\n",
       "      <td>may</td>\n",
       "      <td>23</td>\n",
       "      <td>226</td>\n",
       "      <td>1</td>\n",
       "      <td>0</td>\n",
       "      <td>nonexistent</td>\n",
       "      <td>93.994</td>\n",
       "      <td>4.857</td>\n",
       "      <td>no</td>\n",
       "    </tr>\n",
       "    <tr>\n",
       "      <th>3</th>\n",
       "      <td>3</td>\n",
       "      <td>40</td>\n",
       "      <td>admin.</td>\n",
       "      <td>married</td>\n",
       "      <td>basic.6y</td>\n",
       "      <td>no</td>\n",
       "      <td>no</td>\n",
       "      <td>may</td>\n",
       "      <td>27</td>\n",
       "      <td>151</td>\n",
       "      <td>1</td>\n",
       "      <td>0</td>\n",
       "      <td>nonexistent</td>\n",
       "      <td>93.994</td>\n",
       "      <td>4.857</td>\n",
       "      <td>no</td>\n",
       "    </tr>\n",
       "    <tr>\n",
       "      <th>4</th>\n",
       "      <td>4</td>\n",
       "      <td>56</td>\n",
       "      <td>services</td>\n",
       "      <td>married</td>\n",
       "      <td>high.school</td>\n",
       "      <td>no</td>\n",
       "      <td>no</td>\n",
       "      <td>may</td>\n",
       "      <td>3</td>\n",
       "      <td>307</td>\n",
       "      <td>1</td>\n",
       "      <td>0</td>\n",
       "      <td>nonexistent</td>\n",
       "      <td>93.994</td>\n",
       "      <td>4.857</td>\n",
       "      <td>no</td>\n",
       "    </tr>\n",
       "    <tr>\n",
       "      <th>5</th>\n",
       "      <td>5</td>\n",
       "      <td>45</td>\n",
       "      <td>services</td>\n",
       "      <td>married</td>\n",
       "      <td>basic.9y</td>\n",
       "      <td>unknown</td>\n",
       "      <td>no</td>\n",
       "      <td>may</td>\n",
       "      <td>5</td>\n",
       "      <td>198</td>\n",
       "      <td>1</td>\n",
       "      <td>0</td>\n",
       "      <td>nonexistent</td>\n",
       "      <td>93.994</td>\n",
       "      <td>4.857</td>\n",
       "      <td>no</td>\n",
       "    </tr>\n",
       "    <tr>\n",
       "      <th>6</th>\n",
       "      <td>6</td>\n",
       "      <td>59</td>\n",
       "      <td>admin.</td>\n",
       "      <td>married</td>\n",
       "      <td>professional.course</td>\n",
       "      <td>no</td>\n",
       "      <td>no</td>\n",
       "      <td>may</td>\n",
       "      <td>3</td>\n",
       "      <td>139</td>\n",
       "      <td>1</td>\n",
       "      <td>0</td>\n",
       "      <td>nonexistent</td>\n",
       "      <td>93.994</td>\n",
       "      <td>4.857</td>\n",
       "      <td>no</td>\n",
       "    </tr>\n",
       "    <tr>\n",
       "      <th>7</th>\n",
       "      <td>7</td>\n",
       "      <td>41</td>\n",
       "      <td>blue-collar</td>\n",
       "      <td>married</td>\n",
       "      <td>unknown</td>\n",
       "      <td>unknown</td>\n",
       "      <td>no</td>\n",
       "      <td>may</td>\n",
       "      <td>12</td>\n",
       "      <td>217</td>\n",
       "      <td>1</td>\n",
       "      <td>0</td>\n",
       "      <td>nonexistent</td>\n",
       "      <td>93.994</td>\n",
       "      <td>4.857</td>\n",
       "      <td>no</td>\n",
       "    </tr>\n",
       "    <tr>\n",
       "      <th>8</th>\n",
       "      <td>8</td>\n",
       "      <td>24</td>\n",
       "      <td>technician</td>\n",
       "      <td>single</td>\n",
       "      <td>professional.course</td>\n",
       "      <td>no</td>\n",
       "      <td>yes</td>\n",
       "      <td>may</td>\n",
       "      <td>21</td>\n",
       "      <td>380</td>\n",
       "      <td>1</td>\n",
       "      <td>0</td>\n",
       "      <td>nonexistent</td>\n",
       "      <td>93.994</td>\n",
       "      <td>4.857</td>\n",
       "      <td>no</td>\n",
       "    </tr>\n",
       "    <tr>\n",
       "      <th>9</th>\n",
       "      <td>9</td>\n",
       "      <td>25</td>\n",
       "      <td>services</td>\n",
       "      <td>single</td>\n",
       "      <td>high.school</td>\n",
       "      <td>no</td>\n",
       "      <td>yes</td>\n",
       "      <td>may</td>\n",
       "      <td>5</td>\n",
       "      <td>50</td>\n",
       "      <td>1</td>\n",
       "      <td>0</td>\n",
       "      <td>nonexistent</td>\n",
       "      <td>93.994</td>\n",
       "      <td>4.857</td>\n",
       "      <td>no</td>\n",
       "    </tr>\n",
       "  </tbody>\n",
       "</table>\n",
       "</div>"
      ],
      "text/plain": [
       "   client_id  age          job  marital            education credit_default  \\\n",
       "0          0   56    housemaid  married             basic.4y             no   \n",
       "1          1   57     services  married          high.school        unknown   \n",
       "2          2   37     services  married          high.school             no   \n",
       "3          3   40       admin.  married             basic.6y             no   \n",
       "4          4   56     services  married          high.school             no   \n",
       "5          5   45     services  married             basic.9y        unknown   \n",
       "6          6   59       admin.  married  professional.course             no   \n",
       "7          7   41  blue-collar  married              unknown        unknown   \n",
       "8          8   24   technician   single  professional.course             no   \n",
       "9          9   25     services   single          high.school             no   \n",
       "\n",
       "  mortgage month  day  contact_duration  number_contacts  \\\n",
       "0       no   may   13               261                1   \n",
       "1       no   may   19               149                1   \n",
       "2      yes   may   23               226                1   \n",
       "3       no   may   27               151                1   \n",
       "4       no   may    3               307                1   \n",
       "5       no   may    5               198                1   \n",
       "6       no   may    3               139                1   \n",
       "7       no   may   12               217                1   \n",
       "8      yes   may   21               380                1   \n",
       "9      yes   may    5                50                1   \n",
       "\n",
       "   previous_campaign_contacts previous_outcome  cons_price_idx  \\\n",
       "0                           0      nonexistent          93.994   \n",
       "1                           0      nonexistent          93.994   \n",
       "2                           0      nonexistent          93.994   \n",
       "3                           0      nonexistent          93.994   \n",
       "4                           0      nonexistent          93.994   \n",
       "5                           0      nonexistent          93.994   \n",
       "6                           0      nonexistent          93.994   \n",
       "7                           0      nonexistent          93.994   \n",
       "8                           0      nonexistent          93.994   \n",
       "9                           0      nonexistent          93.994   \n",
       "\n",
       "   euribor_three_months campaign_outcome  \n",
       "0                 4.857               no  \n",
       "1                 4.857               no  \n",
       "2                 4.857               no  \n",
       "3                 4.857               no  \n",
       "4                 4.857               no  \n",
       "5                 4.857               no  \n",
       "6                 4.857               no  \n",
       "7                 4.857               no  \n",
       "8                 4.857               no  \n",
       "9                 4.857               no  "
      ]
     },
     "execution_count": 5,
     "metadata": {},
     "output_type": "execute_result"
    }
   ],
   "source": [
    "df.head(10)"
   ]
  },
  {
   "cell_type": "code",
   "execution_count": 7,
   "id": "7897be05-9dee-42a1-84bb-928d8e85c276",
   "metadata": {},
   "outputs": [
    {
     "name": "stdout",
     "output_type": "stream",
     "text": [
      "<class 'pandas.core.frame.DataFrame'>\n",
      "RangeIndex: 41188 entries, 0 to 41187\n",
      "Data columns (total 16 columns):\n",
      " #   Column                      Non-Null Count  Dtype  \n",
      "---  ------                      --------------  -----  \n",
      " 0   client_id                   41188 non-null  int64  \n",
      " 1   age                         41188 non-null  int64  \n",
      " 2   job                         41188 non-null  object \n",
      " 3   marital                     41188 non-null  object \n",
      " 4   education                   41188 non-null  object \n",
      " 5   credit_default              41188 non-null  object \n",
      " 6   mortgage                    41188 non-null  object \n",
      " 7   month                       41188 non-null  object \n",
      " 8   day                         41188 non-null  int64  \n",
      " 9   contact_duration            41188 non-null  int64  \n",
      " 10  number_contacts             41188 non-null  int64  \n",
      " 11  previous_campaign_contacts  41188 non-null  int64  \n",
      " 12  previous_outcome            41188 non-null  object \n",
      " 13  cons_price_idx              41188 non-null  float64\n",
      " 14  euribor_three_months        41188 non-null  float64\n",
      " 15  campaign_outcome            41188 non-null  object \n",
      "dtypes: float64(2), int64(6), object(8)\n",
      "memory usage: 5.0+ MB\n"
     ]
    }
   ],
   "source": [
    "df.info()"
   ]
  },
  {
   "cell_type": "markdown",
   "id": "208cae4c-7d3a-4fde-b368-4e5e14a0db7f",
   "metadata": {},
   "source": [
    "# Performing operations for client CSV"
   ]
  },
  {
   "cell_type": "code",
   "execution_count": 9,
   "id": "ea3b7e76-6430-4aec-9360-696b5e8b355a",
   "metadata": {},
   "outputs": [
    {
     "data": {
      "text/plain": [
       "job\n",
       "admin.           10422\n",
       "blue-collar       9254\n",
       "technician        6743\n",
       "services          3969\n",
       "management        2924\n",
       "retired           1720\n",
       "entrepreneur      1456\n",
       "self-employed     1421\n",
       "housemaid         1060\n",
       "unemployed        1014\n",
       "student            875\n",
       "unknown            330\n",
       "Name: count, dtype: int64"
      ]
     },
     "execution_count": 9,
     "metadata": {},
     "output_type": "execute_result"
    }
   ],
   "source": [
    "df[\"job\"].value_counts()"
   ]
  },
  {
   "cell_type": "code",
   "execution_count": 11,
   "id": "7f94b7b2-530d-4441-8928-680b819aab47",
   "metadata": {},
   "outputs": [],
   "source": [
    "df[\"job\"]=df[\"job\"].str.replace('.', '_', regex=False)"
   ]
  },
  {
   "cell_type": "markdown",
   "id": "d592a95b-0446-4d17-8483-8898c121c905",
   "metadata": {},
   "source": [
    "## on education column"
   ]
  },
  {
   "cell_type": "code",
   "execution_count": 14,
   "id": "f93d0cb9-3f1e-467b-8fe0-9a0afe4e208f",
   "metadata": {},
   "outputs": [],
   "source": [
    "df[\"education\"]=df[\"education\"].str.replace('.', '_', regex=False)"
   ]
  },
  {
   "cell_type": "code",
   "execution_count": 16,
   "id": "8351d716-f174-478f-bc5e-30ea655a5980",
   "metadata": {},
   "outputs": [],
   "source": [
    "df[\"education\"]=df[\"education\"].replace('unknown', np.NaN)"
   ]
  },
  {
   "cell_type": "markdown",
   "id": "bcb4b0af-97e9-4930-9ec5-bd5d5719c56d",
   "metadata": {},
   "source": [
    "- now that we see that we have 1731 valueswe can replace it with most repeated value."
   ]
  },
  {
   "cell_type": "code",
   "execution_count": 19,
   "id": "c81252f4-7310-4e54-bb3d-b3394451b319",
   "metadata": {},
   "outputs": [
    {
     "data": {
      "text/plain": [
       "1731"
      ]
     },
     "execution_count": 19,
     "metadata": {},
     "output_type": "execute_result"
    }
   ],
   "source": [
    "df[\"education\"].isna().sum()"
   ]
  },
  {
   "cell_type": "code",
   "execution_count": 21,
   "id": "88ca556d-b9ff-4bed-894f-54c3fedf8fbd",
   "metadata": {},
   "outputs": [
    {
     "name": "stdout",
     "output_type": "stream",
     "text": [
      "university_degree\n"
     ]
    }
   ],
   "source": [
    "repeated_value=df[\"education\"].mode()[0]\n",
    "print(repeated_value)"
   ]
  },
  {
   "cell_type": "markdown",
   "id": "1971a07a-fec4-44a0-8b62-c0f833907e7f",
   "metadata": {},
   "source": [
    "- now that we see most repeated value is \"university degree\" we can replace the Nan values with university degree."
   ]
  },
  {
   "cell_type": "code",
   "execution_count": 23,
   "id": "9cfd48ef-bc4f-4b09-a952-9290b9ad1afb",
   "metadata": {},
   "outputs": [],
   "source": [
    "df[\"education\"]=df[\"education\"].fillna(repeated_value)"
   ]
  },
  {
   "cell_type": "code",
   "execution_count": 25,
   "id": "8b10b6eb-eee2-464b-83cf-89d35560214d",
   "metadata": {},
   "outputs": [
    {
     "data": {
      "text/plain": [
       "0"
      ]
     },
     "execution_count": 25,
     "metadata": {},
     "output_type": "execute_result"
    }
   ],
   "source": [
    "df[\"education\"].isna().sum()\n"
   ]
  },
  {
   "cell_type": "markdown",
   "id": "8ad61670-58da-45a4-9e0a-f9cb76881618",
   "metadata": {},
   "source": [
    "## credit default column\n",
    "- First we will see how many unique valyes do we have.\n",
    "- then we will replace any other values with Nan.\n",
    "- then we will convert it into boolean\n"
   ]
  },
  {
   "cell_type": "code",
   "execution_count": 27,
   "id": "1a6bf7fc-ce60-481e-bd52-063cd8a8b977",
   "metadata": {},
   "outputs": [
    {
     "data": {
      "text/plain": [
       "credit_default\n",
       "no         32588\n",
       "unknown     8597\n",
       "yes            3\n",
       "Name: count, dtype: int64"
      ]
     },
     "execution_count": 27,
     "metadata": {},
     "output_type": "execute_result"
    }
   ],
   "source": [
    "df[\"credit_default\"].value_counts()"
   ]
  },
  {
   "cell_type": "code",
   "execution_count": 29,
   "id": "54c21db6-c589-422b-ac7d-4f209550675d",
   "metadata": {},
   "outputs": [],
   "source": [
    "df['credit_default'] = df['credit_default'].apply(lambda x: 1 if x == 'yes' else 0)\n",
    "df['credit_default'] = df['credit_default'].astype(bool)  \n"
   ]
  },
  {
   "cell_type": "code",
   "execution_count": 31,
   "id": "9fd64114-2257-4a5e-b50d-e025ed8b8755",
   "metadata": {},
   "outputs": [
    {
     "data": {
      "text/plain": [
       "dtype('bool')"
      ]
     },
     "execution_count": 31,
     "metadata": {},
     "output_type": "execute_result"
    }
   ],
   "source": [
    "df[\"credit_default\"].dtype"
   ]
  },
  {
   "cell_type": "code",
   "execution_count": 45,
   "id": "bb3ab5c0-dd07-49be-8e43-7fa532a6d6cb",
   "metadata": {},
   "outputs": [],
   "source": []
  },
  {
   "cell_type": "markdown",
   "id": "effebe7f-d59d-4e6e-9b6c-14d9d342c2b8",
   "metadata": {},
   "source": [
    "## Mortage Column\n",
    "- Same as we did credit default. We will do with this one.\n",
    "- first check any values that need to be replaced then convert into bool."
   ]
  },
  {
   "cell_type": "code",
   "execution_count": 33,
   "id": "969e0a93-c32a-4f03-9bb1-25e5e99149ba",
   "metadata": {},
   "outputs": [
    {
     "data": {
      "text/plain": [
       "mortgage\n",
       "yes        21576\n",
       "no         18622\n",
       "unknown      990\n",
       "Name: count, dtype: int64"
      ]
     },
     "execution_count": 33,
     "metadata": {},
     "output_type": "execute_result"
    }
   ],
   "source": [
    "df['mortgage'].value_counts()"
   ]
  },
  {
   "cell_type": "code",
   "execution_count": 35,
   "id": "eef65326-ade2-4a74-b649-b30b66a99053",
   "metadata": {},
   "outputs": [],
   "source": [
    "df['mortgage'] = df['mortgage'].apply(lambda x: 1 if x == 'yes' else 0)\n"
   ]
  },
  {
   "cell_type": "code",
   "execution_count": 39,
   "id": "e41a2231-0b18-4113-b35f-90c19b16eb31",
   "metadata": {},
   "outputs": [
    {
     "data": {
      "text/plain": [
       "dtype('int64')"
      ]
     },
     "execution_count": 39,
     "metadata": {},
     "output_type": "execute_result"
    }
   ],
   "source": [
    "df[\"mortgage\"].dtype"
   ]
  },
  {
   "cell_type": "code",
   "execution_count": 41,
   "id": "f44b5bfc-a0a3-48e8-959f-e2f8c44effd7",
   "metadata": {},
   "outputs": [],
   "source": [
    "df[\"mortgage\"]=df[\"mortgage\"].astype(\"bool\")"
   ]
  },
  {
   "cell_type": "markdown",
   "id": "7e55c2ac-54e7-4017-aa42-f5fef9f17fa1",
   "metadata": {},
   "source": [
    "## age column\n",
    "- we need to find the total of isna values.\n",
    "- After result, we can see that there are no null values in our age columns."
   ]
  },
  {
   "cell_type": "code",
   "execution_count": 43,
   "id": "f0212cf3-7576-4708-a9f3-f928816e7749",
   "metadata": {},
   "outputs": [
    {
     "data": {
      "text/plain": [
       "0"
      ]
     },
     "execution_count": 43,
     "metadata": {},
     "output_type": "execute_result"
    }
   ],
   "source": [
    "\n",
    "df[\"age\"].isna().sum()\n"
   ]
  },
  {
   "cell_type": "markdown",
   "id": "a495f5cd-3d3d-4b6c-bc3b-f1462498252c",
   "metadata": {},
   "source": [
    "## client _id col\n",
    "- We can see that we dont have any null values in this either.\n"
   ]
  },
  {
   "cell_type": "code",
   "execution_count": 45,
   "id": "e38b9a0d-ea70-4168-8206-a8ef52e69d3a",
   "metadata": {},
   "outputs": [
    {
     "data": {
      "text/plain": [
       "0"
      ]
     },
     "execution_count": 45,
     "metadata": {},
     "output_type": "execute_result"
    }
   ],
   "source": [
    "df[\"client_id\"].isna().sum()"
   ]
  },
  {
   "cell_type": "markdown",
   "id": "313ce7ba-71bd-4d70-a047-d00a2234b503",
   "metadata": {},
   "source": [
    "## martial column"
   ]
  },
  {
   "cell_type": "code",
   "execution_count": 47,
   "id": "f31cdc0a-7b8a-40c0-bbfb-10f544037f1b",
   "metadata": {},
   "outputs": [
    {
     "name": "stdout",
     "output_type": "stream",
     "text": [
      "marital\n",
      "married     24928\n",
      "single      11568\n",
      "divorced     4612\n",
      "unknown        80\n",
      "Name: count, dtype: int64\n"
     ]
    }
   ],
   "source": [
    "print(df[\"marital\"].value_counts())"
   ]
  },
  {
   "cell_type": "code",
   "execution_count": 49,
   "id": "6c399f8a-fdad-48dc-aae2-ab50d1bd2507",
   "metadata": {},
   "outputs": [],
   "source": [
    "df[\"marital\"]=df[\"marital\"].replace(\"unknown\", np.NaN)"
   ]
  },
  {
   "cell_type": "code",
   "execution_count": 51,
   "id": "381efa85-0219-4382-b720-9a28ba5a5aca",
   "metadata": {},
   "outputs": [
    {
     "data": {
      "text/plain": [
       "80"
      ]
     },
     "execution_count": 51,
     "metadata": {},
     "output_type": "execute_result"
    }
   ],
   "source": [
    "df[\"marital\"].isna().sum()"
   ]
  },
  {
   "cell_type": "code",
   "execution_count": 53,
   "id": "1e73cbd0-58c8-4c8a-ada1-6cca06c7d3bf",
   "metadata": {},
   "outputs": [
    {
     "name": "stdout",
     "output_type": "stream",
     "text": [
      "married\n"
     ]
    }
   ],
   "source": [
    "mode_value = df['marital'].mode()[0]\n",
    "print(mode_value)"
   ]
  },
  {
   "cell_type": "markdown",
   "id": "8cabf407-f49e-4bca-aaeb-368a8aa1ab9a",
   "metadata": {},
   "source": [
    "- we will fill the missing value with mode ( the most repeated value that is mmarried.)"
   ]
  },
  {
   "cell_type": "code",
   "execution_count": 55,
   "id": "b459c639-a9f6-4d24-bbf4-a1f4ab2a046f",
   "metadata": {},
   "outputs": [],
   "source": [
    "df[\"marital\"]=df[\"marital\"].fillna(mode_value)"
   ]
  },
  {
   "cell_type": "code",
   "execution_count": 57,
   "id": "6243aec4-8e76-4c9d-95c0-bb06532d124e",
   "metadata": {},
   "outputs": [
    {
     "data": {
      "text/plain": [
       "0"
      ]
     },
     "execution_count": 57,
     "metadata": {},
     "output_type": "execute_result"
    }
   ],
   "source": [
    "df[\"marital\"].isna().sum() "
   ]
  },
  {
   "cell_type": "markdown",
   "id": "941c7605-053b-4cc7-86b1-4b59bddc8a9f",
   "metadata": {},
   "source": [
    "- now we can see that there are no null values."
   ]
  },
  {
   "cell_type": "markdown",
   "id": "d4b655fc-eda1-4496-8744-3e1ecaf4d385",
   "metadata": {},
   "source": [
    "# Making a csv of client"
   ]
  },
  {
   "cell_type": "code",
   "execution_count": 59,
   "id": "44ff097e-9ab6-446a-8426-f7fc4aace212",
   "metadata": {},
   "outputs": [],
   "source": [
    "client_csv=df[[\"client_id\", \"age\", \"job\", \"marital\", \"education\", \"credit_default\",\"mortgage\"]]"
   ]
  },
  {
   "cell_type": "code",
   "execution_count": 61,
   "id": "60a4b1a8-01ee-4f0f-9abd-db0c311dee1a",
   "metadata": {},
   "outputs": [
    {
     "data": {
      "text/html": [
       "<div>\n",
       "<style scoped>\n",
       "    .dataframe tbody tr th:only-of-type {\n",
       "        vertical-align: middle;\n",
       "    }\n",
       "\n",
       "    .dataframe tbody tr th {\n",
       "        vertical-align: top;\n",
       "    }\n",
       "\n",
       "    .dataframe thead th {\n",
       "        text-align: right;\n",
       "    }\n",
       "</style>\n",
       "<table border=\"1\" class=\"dataframe\">\n",
       "  <thead>\n",
       "    <tr style=\"text-align: right;\">\n",
       "      <th></th>\n",
       "      <th>client_id</th>\n",
       "      <th>age</th>\n",
       "      <th>job</th>\n",
       "      <th>marital</th>\n",
       "      <th>education</th>\n",
       "      <th>credit_default</th>\n",
       "      <th>mortgage</th>\n",
       "    </tr>\n",
       "  </thead>\n",
       "  <tbody>\n",
       "    <tr>\n",
       "      <th>0</th>\n",
       "      <td>0</td>\n",
       "      <td>56</td>\n",
       "      <td>housemaid</td>\n",
       "      <td>married</td>\n",
       "      <td>basic_4y</td>\n",
       "      <td>False</td>\n",
       "      <td>False</td>\n",
       "    </tr>\n",
       "    <tr>\n",
       "      <th>1</th>\n",
       "      <td>1</td>\n",
       "      <td>57</td>\n",
       "      <td>services</td>\n",
       "      <td>married</td>\n",
       "      <td>high_school</td>\n",
       "      <td>False</td>\n",
       "      <td>False</td>\n",
       "    </tr>\n",
       "    <tr>\n",
       "      <th>2</th>\n",
       "      <td>2</td>\n",
       "      <td>37</td>\n",
       "      <td>services</td>\n",
       "      <td>married</td>\n",
       "      <td>high_school</td>\n",
       "      <td>False</td>\n",
       "      <td>True</td>\n",
       "    </tr>\n",
       "    <tr>\n",
       "      <th>3</th>\n",
       "      <td>3</td>\n",
       "      <td>40</td>\n",
       "      <td>admin_</td>\n",
       "      <td>married</td>\n",
       "      <td>basic_6y</td>\n",
       "      <td>False</td>\n",
       "      <td>False</td>\n",
       "    </tr>\n",
       "    <tr>\n",
       "      <th>4</th>\n",
       "      <td>4</td>\n",
       "      <td>56</td>\n",
       "      <td>services</td>\n",
       "      <td>married</td>\n",
       "      <td>high_school</td>\n",
       "      <td>False</td>\n",
       "      <td>False</td>\n",
       "    </tr>\n",
       "  </tbody>\n",
       "</table>\n",
       "</div>"
      ],
      "text/plain": [
       "   client_id  age        job  marital    education  credit_default  mortgage\n",
       "0          0   56  housemaid  married     basic_4y           False     False\n",
       "1          1   57   services  married  high_school           False     False\n",
       "2          2   37   services  married  high_school           False      True\n",
       "3          3   40     admin_  married     basic_6y           False     False\n",
       "4          4   56   services  married  high_school           False     False"
      ]
     },
     "execution_count": 61,
     "metadata": {},
     "output_type": "execute_result"
    }
   ],
   "source": [
    "client_csv.head()"
   ]
  },
  {
   "cell_type": "code",
   "execution_count": 63,
   "id": "84a6ff26-887f-426e-977f-5dd36c9d97ac",
   "metadata": {},
   "outputs": [
    {
     "data": {
      "text/plain": [
       "client_id         0\n",
       "age               0\n",
       "job               0\n",
       "marital           0\n",
       "education         0\n",
       "credit_default    0\n",
       "mortgage          0\n",
       "dtype: int64"
      ]
     },
     "execution_count": 63,
     "metadata": {},
     "output_type": "execute_result"
    }
   ],
   "source": [
    "client_csv.isna().sum()"
   ]
  },
  {
   "cell_type": "markdown",
   "id": "b2dc5034-8ce4-40a3-8550-b5839b61351c",
   "metadata": {},
   "source": [
    "- finally saving it as client_csv\n"
   ]
  },
  {
   "cell_type": "code",
   "execution_count": 65,
   "id": "275e3fd5-e3a6-4f59-9002-f0405c1d91e7",
   "metadata": {},
   "outputs": [],
   "source": [
    "client_csv.to_csv(\"client.csv\", index=False)"
   ]
  },
  {
   "cell_type": "code",
   "execution_count": null,
   "id": "92075710-fd52-48c8-9daf-8a5dd9cfd9c5",
   "metadata": {},
   "outputs": [],
   "source": []
  },
  {
   "cell_type": "markdown",
   "id": "c84f8bd4-6712-4dd4-8f92-77717a01a95d",
   "metadata": {},
   "source": [
    "# Campaign csv data "
   ]
  },
  {
   "cell_type": "markdown",
   "id": "9415d721-9ebc-4f25-9982-bae6a27c3c97",
   "metadata": {},
   "source": [
    "- since client id had no N/A so we will move on to the next col"
   ]
  },
  {
   "cell_type": "markdown",
   "id": "11e28466-0368-47c2-9b2a-43c1e6d2b383",
   "metadata": {},
   "source": [
    "## Number Contacts\n",
    "- there are no null values in numner contacts."
   ]
  },
  {
   "cell_type": "code",
   "execution_count": 70,
   "id": "a843420f-fe85-4e88-ba5c-4a274572cf99",
   "metadata": {},
   "outputs": [
    {
     "data": {
      "text/plain": [
       "0"
      ]
     },
     "execution_count": 70,
     "metadata": {},
     "output_type": "execute_result"
    }
   ],
   "source": [
    "df[\"number_contacts\"].isna().sum()"
   ]
  },
  {
   "cell_type": "markdown",
   "id": "3303ae63-164f-434f-a323-c40f7245634a",
   "metadata": {},
   "source": [
    "## Contact_duration"
   ]
  },
  {
   "cell_type": "markdown",
   "id": "399aebc4-314f-448a-a09a-a45f0a52aef4",
   "metadata": {},
   "source": [
    "- No null values, so moving on to next column for csv data"
   ]
  },
  {
   "cell_type": "code",
   "execution_count": 76,
   "id": "8eef1035-d083-4484-83d9-e91381193bab",
   "metadata": {},
   "outputs": [
    {
     "data": {
      "text/plain": [
       "0"
      ]
     },
     "execution_count": 76,
     "metadata": {},
     "output_type": "execute_result"
    }
   ],
   "source": [
    "df[\"contact_duration\"].isna().sum()"
   ]
  },
  {
   "cell_type": "markdown",
   "id": "c0f95d92-7913-4ca3-8856-b7f0a841bb07",
   "metadata": {},
   "source": [
    "## previous_campaign_contacts column"
   ]
  },
  {
   "cell_type": "code",
   "execution_count": 79,
   "id": "29ae94ce-8a12-4fdf-8254-a6e6523bd6ed",
   "metadata": {},
   "outputs": [
    {
     "data": {
      "text/plain": [
       "0"
      ]
     },
     "execution_count": 79,
     "metadata": {},
     "output_type": "execute_result"
    }
   ],
   "source": [
    "df[\"previous_campaign_contacts\"].isna().sum()"
   ]
  },
  {
   "cell_type": "markdown",
   "id": "45c69bfd-9b94-4f25-9401-c7e1acecd115",
   "metadata": {},
   "source": [
    "## campaign outcome column\n"
   ]
  },
  {
   "cell_type": "code",
   "execution_count": 83,
   "id": "a230b48b-a7a2-4497-b2e9-46f78ddf78cc",
   "metadata": {},
   "outputs": [
    {
     "data": {
      "text/plain": [
       "0"
      ]
     },
     "execution_count": 83,
     "metadata": {},
     "output_type": "execute_result"
    }
   ],
   "source": [
    "df[\"campaign_outcome\"].isna().sum()"
   ]
  },
  {
   "cell_type": "code",
   "execution_count": 85,
   "id": "8470121b-56a2-463b-86d5-a60c62d46262",
   "metadata": {},
   "outputs": [
    {
     "data": {
      "text/plain": [
       "campaign_outcome\n",
       "no     36548\n",
       "yes     4640\n",
       "Name: count, dtype: int64"
      ]
     },
     "execution_count": 85,
     "metadata": {},
     "output_type": "execute_result"
    }
   ],
   "source": [
    "df[\"campaign_outcome\"].value_counts()"
   ]
  },
  {
   "cell_type": "markdown",
   "id": "326c5ff7-6e42-4035-8d19-755ac441fb76",
   "metadata": {},
   "source": [
    "- since there are no other values than yes and no so we cann directly change it to boolean"
   ]
  },
  {
   "cell_type": "code",
   "execution_count": 90,
   "id": "88d79d8b-9791-4e77-b03c-8809bc472a3f",
   "metadata": {},
   "outputs": [],
   "source": [
    "df['campaign_outcome'] = df['campaign_outcome'].apply(lambda x: 1 if x == 'yes' else 0)"
   ]
  },
  {
   "cell_type": "code",
   "execution_count": 92,
   "id": "7ced35c8-275b-44b7-b466-1fcac698fb60",
   "metadata": {},
   "outputs": [
    {
     "name": "stdout",
     "output_type": "stream",
     "text": [
      "0        0\n",
      "1        0\n",
      "2        0\n",
      "3        0\n",
      "4        0\n",
      "        ..\n",
      "41183    1\n",
      "41184    0\n",
      "41185    0\n",
      "41186    1\n",
      "41187    0\n",
      "Name: campaign_outcome, Length: 41188, dtype: int64\n"
     ]
    }
   ],
   "source": [
    "print(df['campaign_outcome'] )"
   ]
  },
  {
   "cell_type": "code",
   "execution_count": 94,
   "id": "ff082f09-f061-402c-b90a-60a2228038ba",
   "metadata": {},
   "outputs": [],
   "source": [
    "df[\"campaign_outcome\"]=df[\"campaign_outcome\"].astype(\"bool\")"
   ]
  },
  {
   "cell_type": "code",
   "execution_count": 96,
   "id": "3a819438-3381-44a1-ac39-97b9d7d9bb5f",
   "metadata": {},
   "outputs": [
    {
     "data": {
      "text/plain": [
       "dtype('bool')"
      ]
     },
     "execution_count": 96,
     "metadata": {},
     "output_type": "execute_result"
    }
   ],
   "source": [
    "df[\"campaign_outcome\"].dtype"
   ]
  },
  {
   "cell_type": "markdown",
   "id": "00d3cbdc-87f7-41a7-801a-08713b850c58",
   "metadata": {},
   "source": [
    "## previous outcome column"
   ]
  },
  {
   "cell_type": "code",
   "execution_count": 99,
   "id": "bf5b5aad-d42e-424d-aceb-970d2f04b1cb",
   "metadata": {},
   "outputs": [
    {
     "data": {
      "text/plain": [
       "0"
      ]
     },
     "execution_count": 99,
     "metadata": {},
     "output_type": "execute_result"
    }
   ],
   "source": [
    "df[\"previous_outcome\"].isna().sum()"
   ]
  },
  {
   "cell_type": "code",
   "execution_count": 101,
   "id": "92fba9a6-7ee3-4172-a27d-f47bd9fbe079",
   "metadata": {},
   "outputs": [
    {
     "data": {
      "text/plain": [
       "previous_outcome\n",
       "nonexistent    35563\n",
       "failure         4252\n",
       "success         1373\n",
       "Name: count, dtype: int64"
      ]
     },
     "execution_count": 101,
     "metadata": {},
     "output_type": "execute_result"
    }
   ],
   "source": [
    "df[\"previous_outcome\"].value_counts()"
   ]
  },
  {
   "cell_type": "markdown",
   "id": "7de55004-621f-4078-9c20-e90c811b6a16",
   "metadata": {},
   "source": [
    "- Now we can change the non- existent and failure to 0 and success to 1"
   ]
  },
  {
   "cell_type": "code",
   "execution_count": 104,
   "id": "0cff4ed1-0b0e-489f-8031-2a4ae2023656",
   "metadata": {},
   "outputs": [],
   "source": [
    "df['previous_outcome'] = df['previous_outcome'].apply(lambda x: 1 if x == 'success' else 0)\n"
   ]
  },
  {
   "cell_type": "code",
   "execution_count": 106,
   "id": "379e3601-74e5-44a7-8212-6ee099c2befb",
   "metadata": {},
   "outputs": [],
   "source": [
    "df[\"previous_outcome\"]=df[\"previous_outcome\"].astype(\"bool\")"
   ]
  },
  {
   "cell_type": "code",
   "execution_count": 108,
   "id": "f1061019-2aee-4701-a823-e7b74cd9712f",
   "metadata": {},
   "outputs": [
    {
     "data": {
      "text/plain": [
       "dtype('bool')"
      ]
     },
     "execution_count": 108,
     "metadata": {},
     "output_type": "execute_result"
    }
   ],
   "source": [
    "df[\"previous_outcome\"].dtype"
   ]
  },
  {
   "cell_type": "markdown",
   "id": "34c7d205-50cd-4197-b7ae-e53fbddfca0e",
   "metadata": {},
   "source": [
    "## Last Contact Hour"
   ]
  },
  {
   "cell_type": "markdown",
   "id": "c1f56b8f-fece-4951-a471-f36e47694b5c",
   "metadata": {},
   "source": [
    "- since our month column was strimg so we need to map it to number "
   ]
  },
  {
   "cell_type": "code",
   "execution_count": 114,
   "id": "7c7fd5f2-1d33-4dff-a142-ba7e54c73b3f",
   "metadata": {},
   "outputs": [
    {
     "data": {
      "text/plain": [
       "0        may\n",
       "1        may\n",
       "2        may\n",
       "3        may\n",
       "4        may\n",
       "        ... \n",
       "41183    nov\n",
       "41184    nov\n",
       "41185    nov\n",
       "41186    nov\n",
       "41187    nov\n",
       "Name: month, Length: 41188, dtype: object"
      ]
     },
     "execution_count": 114,
     "metadata": {},
     "output_type": "execute_result"
    }
   ],
   "source": [
    "df[\"month\"]"
   ]
  },
  {
   "cell_type": "code",
   "execution_count": 118,
   "id": "c7485e84-42e9-4331-9756-73b5c62282c7",
   "metadata": {},
   "outputs": [],
   "source": [
    "\n",
    "month_map = {\n",
    "    'jan': 1, 'feb': 2, 'mar': 3, 'apr': 4, 'may': 5, 'jun': 6,\n",
    "    'jul': 7, 'aug': 8, 'sep': 9, 'oct': 10, 'nov': 11, 'dec': 12\n",
    "}\n",
    "\n",
    "def convert_month(m):  # it will do conversion\n",
    "    if isinstance(m, str):\n",
    "        return month_map.get(m.lower())\n",
    "    return m\n",
    "\n"
   ]
  },
  {
   "cell_type": "code",
   "execution_count": 120,
   "id": "bd179837-0109-4385-9af0-52c52ba214ef",
   "metadata": {},
   "outputs": [],
   "source": [
    "df['month_num'] = df['month'].apply(convert_month) # now we are making a new column that contains the numbered month imstead of string like  may , june\n",
    "\n",
    "df['year'] = 2022 # making a new  col that has a single value for all enteries \n",
    "\n",
    "# Creating the new date column combining year, month, day\n",
    "df['last_contact_date'] = pd.to_datetime({\n",
    "    'year': df['year'],\n",
    "    'month': df['month_num'],\n",
    "    'day': df['day']\n",
    "}, errors='coerce')\n",
    "\n",
    "#now we are formatting tehe date as \"YYYY-MM-DD\"\n",
    "df['last_contact_date'] = df['last_contact_date'].dt.strftime('%Y-%m-%d')"
   ]
  },
  {
   "cell_type": "code",
   "execution_count": 122,
   "id": "0e2e2101-2816-43c7-84b1-d46828b7f0ad",
   "metadata": {},
   "outputs": [
    {
     "name": "stdout",
     "output_type": "stream",
     "text": [
      "0    2022-05-13\n",
      "1    2022-05-19\n",
      "2    2022-05-23\n",
      "3    2022-05-27\n",
      "4    2022-05-03\n",
      "5    2022-05-05\n",
      "6    2022-05-03\n",
      "7    2022-05-12\n",
      "8    2022-05-21\n",
      "9    2022-05-05\n",
      "Name: last_contact_date, dtype: object\n"
     ]
    }
   ],
   "source": [
    "print(df[\"last_contact_date\"].head(10))"
   ]
  },
  {
   "cell_type": "markdown",
   "id": "95b83fad-d1c4-4b3a-9ed1-026207c9ae1a",
   "metadata": {},
   "source": [
    "## Making a CSV"
   ]
  },
  {
   "cell_type": "code",
   "execution_count": 125,
   "id": "8693f52e-e877-4e20-8309-40bae61272eb",
   "metadata": {},
   "outputs": [],
   "source": [
    "campaign_csv=df[[\"client_id\", \"number_contacts\", \"contact_duration\", \"previous_campaign_contacts\", \"previous_outcome\", \"campaign_outcome\",\"last_contact_date\"]]"
   ]
  },
  {
   "cell_type": "code",
   "execution_count": 127,
   "id": "db13f586-e4c8-446a-b5ca-5528885ef391",
   "metadata": {},
   "outputs": [
    {
     "data": {
      "text/html": [
       "<div>\n",
       "<style scoped>\n",
       "    .dataframe tbody tr th:only-of-type {\n",
       "        vertical-align: middle;\n",
       "    }\n",
       "\n",
       "    .dataframe tbody tr th {\n",
       "        vertical-align: top;\n",
       "    }\n",
       "\n",
       "    .dataframe thead th {\n",
       "        text-align: right;\n",
       "    }\n",
       "</style>\n",
       "<table border=\"1\" class=\"dataframe\">\n",
       "  <thead>\n",
       "    <tr style=\"text-align: right;\">\n",
       "      <th></th>\n",
       "      <th>client_id</th>\n",
       "      <th>number_contacts</th>\n",
       "      <th>contact_duration</th>\n",
       "      <th>previous_campaign_contacts</th>\n",
       "      <th>previous_outcome</th>\n",
       "      <th>campaign_outcome</th>\n",
       "      <th>last_contact_date</th>\n",
       "    </tr>\n",
       "  </thead>\n",
       "  <tbody>\n",
       "    <tr>\n",
       "      <th>0</th>\n",
       "      <td>0</td>\n",
       "      <td>1</td>\n",
       "      <td>261</td>\n",
       "      <td>0</td>\n",
       "      <td>False</td>\n",
       "      <td>False</td>\n",
       "      <td>2022-05-13</td>\n",
       "    </tr>\n",
       "    <tr>\n",
       "      <th>1</th>\n",
       "      <td>1</td>\n",
       "      <td>1</td>\n",
       "      <td>149</td>\n",
       "      <td>0</td>\n",
       "      <td>False</td>\n",
       "      <td>False</td>\n",
       "      <td>2022-05-19</td>\n",
       "    </tr>\n",
       "    <tr>\n",
       "      <th>2</th>\n",
       "      <td>2</td>\n",
       "      <td>1</td>\n",
       "      <td>226</td>\n",
       "      <td>0</td>\n",
       "      <td>False</td>\n",
       "      <td>False</td>\n",
       "      <td>2022-05-23</td>\n",
       "    </tr>\n",
       "    <tr>\n",
       "      <th>3</th>\n",
       "      <td>3</td>\n",
       "      <td>1</td>\n",
       "      <td>151</td>\n",
       "      <td>0</td>\n",
       "      <td>False</td>\n",
       "      <td>False</td>\n",
       "      <td>2022-05-27</td>\n",
       "    </tr>\n",
       "    <tr>\n",
       "      <th>4</th>\n",
       "      <td>4</td>\n",
       "      <td>1</td>\n",
       "      <td>307</td>\n",
       "      <td>0</td>\n",
       "      <td>False</td>\n",
       "      <td>False</td>\n",
       "      <td>2022-05-03</td>\n",
       "    </tr>\n",
       "  </tbody>\n",
       "</table>\n",
       "</div>"
      ],
      "text/plain": [
       "   client_id  number_contacts  contact_duration  previous_campaign_contacts  \\\n",
       "0          0                1               261                           0   \n",
       "1          1                1               149                           0   \n",
       "2          2                1               226                           0   \n",
       "3          3                1               151                           0   \n",
       "4          4                1               307                           0   \n",
       "\n",
       "   previous_outcome  campaign_outcome last_contact_date  \n",
       "0             False             False        2022-05-13  \n",
       "1             False             False        2022-05-19  \n",
       "2             False             False        2022-05-23  \n",
       "3             False             False        2022-05-27  \n",
       "4             False             False        2022-05-03  "
      ]
     },
     "execution_count": 127,
     "metadata": {},
     "output_type": "execute_result"
    }
   ],
   "source": [
    "campaign_csv.head()"
   ]
  },
  {
   "cell_type": "code",
   "execution_count": 129,
   "id": "402be0ec-430e-4b62-92e3-cc762da03a5a",
   "metadata": {},
   "outputs": [],
   "source": [
    "campaign_csv.to_csv(\"campaign.csv\", index=False)"
   ]
  },
  {
   "cell_type": "markdown",
   "id": "730396fb-9889-4cae-9bef-71f25253488e",
   "metadata": {},
   "source": [
    "## Economics csv"
   ]
  },
  {
   "cell_type": "markdown",
   "id": "becfebfe-1968-436d-ac71-2d615a428161",
   "metadata": {},
   "source": [
    "- Since client id has no null values so we can move onto next column for this csv"
   ]
  },
  {
   "cell_type": "code",
   "execution_count": 135,
   "id": "6587e000-81aa-4a6d-b0bc-9453d0055573",
   "metadata": {},
   "outputs": [
    {
     "data": {
      "text/plain": [
       "0"
      ]
     },
     "execution_count": 135,
     "metadata": {},
     "output_type": "execute_result"
    }
   ],
   "source": [
    "df[\"cons_price_idx\"].isnull().sum()"
   ]
  },
  {
   "cell_type": "code",
   "execution_count": 137,
   "id": "bf15e9a0-3230-486c-8b18-0a5596d021f0",
   "metadata": {},
   "outputs": [
    {
     "data": {
      "text/plain": [
       "0"
      ]
     },
     "execution_count": 137,
     "metadata": {},
     "output_type": "execute_result"
    }
   ],
   "source": [
    "df[\"euribor_three_months\"].isnull().sum()"
   ]
  },
  {
   "cell_type": "markdown",
   "id": "564cf963-b1d9-4791-a410-2290c2141f80",
   "metadata": {},
   "source": [
    "## Making CSV\n",
    "so we will make a csv now."
   ]
  },
  {
   "cell_type": "code",
   "execution_count": 143,
   "id": "24bb3635-b5a6-4779-a6d7-02fa7d777c28",
   "metadata": {},
   "outputs": [],
   "source": [
    "economics_csv=df[[\"client_id\",\"cons_price_idx\",\"euribor_three_months\"]]"
   ]
  },
  {
   "cell_type": "code",
   "execution_count": 145,
   "id": "7bd96c8d-d30d-471c-9f78-61d4189eea14",
   "metadata": {},
   "outputs": [
    {
     "data": {
      "text/html": [
       "<div>\n",
       "<style scoped>\n",
       "    .dataframe tbody tr th:only-of-type {\n",
       "        vertical-align: middle;\n",
       "    }\n",
       "\n",
       "    .dataframe tbody tr th {\n",
       "        vertical-align: top;\n",
       "    }\n",
       "\n",
       "    .dataframe thead th {\n",
       "        text-align: right;\n",
       "    }\n",
       "</style>\n",
       "<table border=\"1\" class=\"dataframe\">\n",
       "  <thead>\n",
       "    <tr style=\"text-align: right;\">\n",
       "      <th></th>\n",
       "      <th>client_id</th>\n",
       "      <th>cons_price_idx</th>\n",
       "      <th>euribor_three_months</th>\n",
       "    </tr>\n",
       "  </thead>\n",
       "  <tbody>\n",
       "    <tr>\n",
       "      <th>0</th>\n",
       "      <td>0</td>\n",
       "      <td>93.994</td>\n",
       "      <td>4.857</td>\n",
       "    </tr>\n",
       "    <tr>\n",
       "      <th>1</th>\n",
       "      <td>1</td>\n",
       "      <td>93.994</td>\n",
       "      <td>4.857</td>\n",
       "    </tr>\n",
       "    <tr>\n",
       "      <th>2</th>\n",
       "      <td>2</td>\n",
       "      <td>93.994</td>\n",
       "      <td>4.857</td>\n",
       "    </tr>\n",
       "    <tr>\n",
       "      <th>3</th>\n",
       "      <td>3</td>\n",
       "      <td>93.994</td>\n",
       "      <td>4.857</td>\n",
       "    </tr>\n",
       "    <tr>\n",
       "      <th>4</th>\n",
       "      <td>4</td>\n",
       "      <td>93.994</td>\n",
       "      <td>4.857</td>\n",
       "    </tr>\n",
       "    <tr>\n",
       "      <th>5</th>\n",
       "      <td>5</td>\n",
       "      <td>93.994</td>\n",
       "      <td>4.857</td>\n",
       "    </tr>\n",
       "  </tbody>\n",
       "</table>\n",
       "</div>"
      ],
      "text/plain": [
       "   client_id  cons_price_idx  euribor_three_months\n",
       "0          0          93.994                 4.857\n",
       "1          1          93.994                 4.857\n",
       "2          2          93.994                 4.857\n",
       "3          3          93.994                 4.857\n",
       "4          4          93.994                 4.857\n",
       "5          5          93.994                 4.857"
      ]
     },
     "execution_count": 145,
     "metadata": {},
     "output_type": "execute_result"
    }
   ],
   "source": [
    "economics_csv.head(6)"
   ]
  },
  {
   "cell_type": "code",
   "execution_count": 147,
   "id": "907e72a8-8510-472d-be0f-47e05d7bd383",
   "metadata": {},
   "outputs": [],
   "source": [
    "economics_csv.to_csv(\"economics.csv\", index=False)"
   ]
  },
  {
   "cell_type": "markdown",
   "id": "229d23de-530c-4560-b73a-2dd7d680c0f2",
   "metadata": {},
   "source": [
    "#  Final CSVs"
   ]
  },
  {
   "cell_type": "code",
   "execution_count": 150,
   "id": "a6089bb9-181a-4f7e-b23a-4689044775e2",
   "metadata": {},
   "outputs": [],
   "source": [
    "df_client=pd.read_csv(\"client.csv\")\n",
    "df_campaign=pd.read_csv(\"campaign.csv\")\n",
    "\n",
    "df_economics=pd.read_csv(\"economics.csv\")"
   ]
  },
  {
   "cell_type": "code",
   "execution_count": 152,
   "id": "c6f76a9c-091d-4477-bbed-7820e3f250d1",
   "metadata": {},
   "outputs": [
    {
     "data": {
      "text/html": [
       "<div>\n",
       "<style scoped>\n",
       "    .dataframe tbody tr th:only-of-type {\n",
       "        vertical-align: middle;\n",
       "    }\n",
       "\n",
       "    .dataframe tbody tr th {\n",
       "        vertical-align: top;\n",
       "    }\n",
       "\n",
       "    .dataframe thead th {\n",
       "        text-align: right;\n",
       "    }\n",
       "</style>\n",
       "<table border=\"1\" class=\"dataframe\">\n",
       "  <thead>\n",
       "    <tr style=\"text-align: right;\">\n",
       "      <th></th>\n",
       "      <th>client_id</th>\n",
       "      <th>age</th>\n",
       "      <th>job</th>\n",
       "      <th>marital</th>\n",
       "      <th>education</th>\n",
       "      <th>credit_default</th>\n",
       "      <th>mortgage</th>\n",
       "    </tr>\n",
       "  </thead>\n",
       "  <tbody>\n",
       "    <tr>\n",
       "      <th>0</th>\n",
       "      <td>0</td>\n",
       "      <td>56</td>\n",
       "      <td>housemaid</td>\n",
       "      <td>married</td>\n",
       "      <td>basic_4y</td>\n",
       "      <td>False</td>\n",
       "      <td>False</td>\n",
       "    </tr>\n",
       "    <tr>\n",
       "      <th>1</th>\n",
       "      <td>1</td>\n",
       "      <td>57</td>\n",
       "      <td>services</td>\n",
       "      <td>married</td>\n",
       "      <td>high_school</td>\n",
       "      <td>False</td>\n",
       "      <td>False</td>\n",
       "    </tr>\n",
       "    <tr>\n",
       "      <th>2</th>\n",
       "      <td>2</td>\n",
       "      <td>37</td>\n",
       "      <td>services</td>\n",
       "      <td>married</td>\n",
       "      <td>high_school</td>\n",
       "      <td>False</td>\n",
       "      <td>True</td>\n",
       "    </tr>\n",
       "    <tr>\n",
       "      <th>3</th>\n",
       "      <td>3</td>\n",
       "      <td>40</td>\n",
       "      <td>admin_</td>\n",
       "      <td>married</td>\n",
       "      <td>basic_6y</td>\n",
       "      <td>False</td>\n",
       "      <td>False</td>\n",
       "    </tr>\n",
       "    <tr>\n",
       "      <th>4</th>\n",
       "      <td>4</td>\n",
       "      <td>56</td>\n",
       "      <td>services</td>\n",
       "      <td>married</td>\n",
       "      <td>high_school</td>\n",
       "      <td>False</td>\n",
       "      <td>False</td>\n",
       "    </tr>\n",
       "    <tr>\n",
       "      <th>5</th>\n",
       "      <td>5</td>\n",
       "      <td>45</td>\n",
       "      <td>services</td>\n",
       "      <td>married</td>\n",
       "      <td>basic_9y</td>\n",
       "      <td>False</td>\n",
       "      <td>False</td>\n",
       "    </tr>\n",
       "    <tr>\n",
       "      <th>6</th>\n",
       "      <td>6</td>\n",
       "      <td>59</td>\n",
       "      <td>admin_</td>\n",
       "      <td>married</td>\n",
       "      <td>professional_course</td>\n",
       "      <td>False</td>\n",
       "      <td>False</td>\n",
       "    </tr>\n",
       "    <tr>\n",
       "      <th>7</th>\n",
       "      <td>7</td>\n",
       "      <td>41</td>\n",
       "      <td>blue-collar</td>\n",
       "      <td>married</td>\n",
       "      <td>university_degree</td>\n",
       "      <td>False</td>\n",
       "      <td>False</td>\n",
       "    </tr>\n",
       "    <tr>\n",
       "      <th>8</th>\n",
       "      <td>8</td>\n",
       "      <td>24</td>\n",
       "      <td>technician</td>\n",
       "      <td>single</td>\n",
       "      <td>professional_course</td>\n",
       "      <td>False</td>\n",
       "      <td>True</td>\n",
       "    </tr>\n",
       "    <tr>\n",
       "      <th>9</th>\n",
       "      <td>9</td>\n",
       "      <td>25</td>\n",
       "      <td>services</td>\n",
       "      <td>single</td>\n",
       "      <td>high_school</td>\n",
       "      <td>False</td>\n",
       "      <td>True</td>\n",
       "    </tr>\n",
       "  </tbody>\n",
       "</table>\n",
       "</div>"
      ],
      "text/plain": [
       "   client_id  age          job  marital            education  credit_default  \\\n",
       "0          0   56    housemaid  married             basic_4y           False   \n",
       "1          1   57     services  married          high_school           False   \n",
       "2          2   37     services  married          high_school           False   \n",
       "3          3   40       admin_  married             basic_6y           False   \n",
       "4          4   56     services  married          high_school           False   \n",
       "5          5   45     services  married             basic_9y           False   \n",
       "6          6   59       admin_  married  professional_course           False   \n",
       "7          7   41  blue-collar  married    university_degree           False   \n",
       "8          8   24   technician   single  professional_course           False   \n",
       "9          9   25     services   single          high_school           False   \n",
       "\n",
       "   mortgage  \n",
       "0     False  \n",
       "1     False  \n",
       "2      True  \n",
       "3     False  \n",
       "4     False  \n",
       "5     False  \n",
       "6     False  \n",
       "7     False  \n",
       "8      True  \n",
       "9      True  "
      ]
     },
     "execution_count": 152,
     "metadata": {},
     "output_type": "execute_result"
    }
   ],
   "source": [
    "df_client.head(10)"
   ]
  },
  {
   "cell_type": "code",
   "execution_count": 154,
   "id": "20c8204c-783d-4cf7-814a-e4dfb2ebde31",
   "metadata": {},
   "outputs": [
    {
     "data": {
      "text/html": [
       "<div>\n",
       "<style scoped>\n",
       "    .dataframe tbody tr th:only-of-type {\n",
       "        vertical-align: middle;\n",
       "    }\n",
       "\n",
       "    .dataframe tbody tr th {\n",
       "        vertical-align: top;\n",
       "    }\n",
       "\n",
       "    .dataframe thead th {\n",
       "        text-align: right;\n",
       "    }\n",
       "</style>\n",
       "<table border=\"1\" class=\"dataframe\">\n",
       "  <thead>\n",
       "    <tr style=\"text-align: right;\">\n",
       "      <th></th>\n",
       "      <th>client_id</th>\n",
       "      <th>number_contacts</th>\n",
       "      <th>contact_duration</th>\n",
       "      <th>previous_campaign_contacts</th>\n",
       "      <th>previous_outcome</th>\n",
       "      <th>campaign_outcome</th>\n",
       "      <th>last_contact_date</th>\n",
       "    </tr>\n",
       "  </thead>\n",
       "  <tbody>\n",
       "    <tr>\n",
       "      <th>0</th>\n",
       "      <td>0</td>\n",
       "      <td>1</td>\n",
       "      <td>261</td>\n",
       "      <td>0</td>\n",
       "      <td>False</td>\n",
       "      <td>False</td>\n",
       "      <td>2022-05-13</td>\n",
       "    </tr>\n",
       "    <tr>\n",
       "      <th>1</th>\n",
       "      <td>1</td>\n",
       "      <td>1</td>\n",
       "      <td>149</td>\n",
       "      <td>0</td>\n",
       "      <td>False</td>\n",
       "      <td>False</td>\n",
       "      <td>2022-05-19</td>\n",
       "    </tr>\n",
       "    <tr>\n",
       "      <th>2</th>\n",
       "      <td>2</td>\n",
       "      <td>1</td>\n",
       "      <td>226</td>\n",
       "      <td>0</td>\n",
       "      <td>False</td>\n",
       "      <td>False</td>\n",
       "      <td>2022-05-23</td>\n",
       "    </tr>\n",
       "    <tr>\n",
       "      <th>3</th>\n",
       "      <td>3</td>\n",
       "      <td>1</td>\n",
       "      <td>151</td>\n",
       "      <td>0</td>\n",
       "      <td>False</td>\n",
       "      <td>False</td>\n",
       "      <td>2022-05-27</td>\n",
       "    </tr>\n",
       "    <tr>\n",
       "      <th>4</th>\n",
       "      <td>4</td>\n",
       "      <td>1</td>\n",
       "      <td>307</td>\n",
       "      <td>0</td>\n",
       "      <td>False</td>\n",
       "      <td>False</td>\n",
       "      <td>2022-05-03</td>\n",
       "    </tr>\n",
       "    <tr>\n",
       "      <th>5</th>\n",
       "      <td>5</td>\n",
       "      <td>1</td>\n",
       "      <td>198</td>\n",
       "      <td>0</td>\n",
       "      <td>False</td>\n",
       "      <td>False</td>\n",
       "      <td>2022-05-05</td>\n",
       "    </tr>\n",
       "    <tr>\n",
       "      <th>6</th>\n",
       "      <td>6</td>\n",
       "      <td>1</td>\n",
       "      <td>139</td>\n",
       "      <td>0</td>\n",
       "      <td>False</td>\n",
       "      <td>False</td>\n",
       "      <td>2022-05-03</td>\n",
       "    </tr>\n",
       "    <tr>\n",
       "      <th>7</th>\n",
       "      <td>7</td>\n",
       "      <td>1</td>\n",
       "      <td>217</td>\n",
       "      <td>0</td>\n",
       "      <td>False</td>\n",
       "      <td>False</td>\n",
       "      <td>2022-05-12</td>\n",
       "    </tr>\n",
       "    <tr>\n",
       "      <th>8</th>\n",
       "      <td>8</td>\n",
       "      <td>1</td>\n",
       "      <td>380</td>\n",
       "      <td>0</td>\n",
       "      <td>False</td>\n",
       "      <td>False</td>\n",
       "      <td>2022-05-21</td>\n",
       "    </tr>\n",
       "    <tr>\n",
       "      <th>9</th>\n",
       "      <td>9</td>\n",
       "      <td>1</td>\n",
       "      <td>50</td>\n",
       "      <td>0</td>\n",
       "      <td>False</td>\n",
       "      <td>False</td>\n",
       "      <td>2022-05-05</td>\n",
       "    </tr>\n",
       "  </tbody>\n",
       "</table>\n",
       "</div>"
      ],
      "text/plain": [
       "   client_id  number_contacts  contact_duration  previous_campaign_contacts  \\\n",
       "0          0                1               261                           0   \n",
       "1          1                1               149                           0   \n",
       "2          2                1               226                           0   \n",
       "3          3                1               151                           0   \n",
       "4          4                1               307                           0   \n",
       "5          5                1               198                           0   \n",
       "6          6                1               139                           0   \n",
       "7          7                1               217                           0   \n",
       "8          8                1               380                           0   \n",
       "9          9                1                50                           0   \n",
       "\n",
       "   previous_outcome  campaign_outcome last_contact_date  \n",
       "0             False             False        2022-05-13  \n",
       "1             False             False        2022-05-19  \n",
       "2             False             False        2022-05-23  \n",
       "3             False             False        2022-05-27  \n",
       "4             False             False        2022-05-03  \n",
       "5             False             False        2022-05-05  \n",
       "6             False             False        2022-05-03  \n",
       "7             False             False        2022-05-12  \n",
       "8             False             False        2022-05-21  \n",
       "9             False             False        2022-05-05  "
      ]
     },
     "execution_count": 154,
     "metadata": {},
     "output_type": "execute_result"
    }
   ],
   "source": [
    "df_campaign.head(10)"
   ]
  },
  {
   "cell_type": "code",
   "execution_count": 156,
   "id": "5b58102e-33d0-42fe-8eb1-7740e33f0ed1",
   "metadata": {},
   "outputs": [
    {
     "data": {
      "text/html": [
       "<div>\n",
       "<style scoped>\n",
       "    .dataframe tbody tr th:only-of-type {\n",
       "        vertical-align: middle;\n",
       "    }\n",
       "\n",
       "    .dataframe tbody tr th {\n",
       "        vertical-align: top;\n",
       "    }\n",
       "\n",
       "    .dataframe thead th {\n",
       "        text-align: right;\n",
       "    }\n",
       "</style>\n",
       "<table border=\"1\" class=\"dataframe\">\n",
       "  <thead>\n",
       "    <tr style=\"text-align: right;\">\n",
       "      <th></th>\n",
       "      <th>client_id</th>\n",
       "      <th>cons_price_idx</th>\n",
       "      <th>euribor_three_months</th>\n",
       "    </tr>\n",
       "  </thead>\n",
       "  <tbody>\n",
       "    <tr>\n",
       "      <th>0</th>\n",
       "      <td>0</td>\n",
       "      <td>93.994</td>\n",
       "      <td>4.857</td>\n",
       "    </tr>\n",
       "    <tr>\n",
       "      <th>1</th>\n",
       "      <td>1</td>\n",
       "      <td>93.994</td>\n",
       "      <td>4.857</td>\n",
       "    </tr>\n",
       "    <tr>\n",
       "      <th>2</th>\n",
       "      <td>2</td>\n",
       "      <td>93.994</td>\n",
       "      <td>4.857</td>\n",
       "    </tr>\n",
       "    <tr>\n",
       "      <th>3</th>\n",
       "      <td>3</td>\n",
       "      <td>93.994</td>\n",
       "      <td>4.857</td>\n",
       "    </tr>\n",
       "    <tr>\n",
       "      <th>4</th>\n",
       "      <td>4</td>\n",
       "      <td>93.994</td>\n",
       "      <td>4.857</td>\n",
       "    </tr>\n",
       "    <tr>\n",
       "      <th>5</th>\n",
       "      <td>5</td>\n",
       "      <td>93.994</td>\n",
       "      <td>4.857</td>\n",
       "    </tr>\n",
       "    <tr>\n",
       "      <th>6</th>\n",
       "      <td>6</td>\n",
       "      <td>93.994</td>\n",
       "      <td>4.857</td>\n",
       "    </tr>\n",
       "    <tr>\n",
       "      <th>7</th>\n",
       "      <td>7</td>\n",
       "      <td>93.994</td>\n",
       "      <td>4.857</td>\n",
       "    </tr>\n",
       "    <tr>\n",
       "      <th>8</th>\n",
       "      <td>8</td>\n",
       "      <td>93.994</td>\n",
       "      <td>4.857</td>\n",
       "    </tr>\n",
       "    <tr>\n",
       "      <th>9</th>\n",
       "      <td>9</td>\n",
       "      <td>93.994</td>\n",
       "      <td>4.857</td>\n",
       "    </tr>\n",
       "  </tbody>\n",
       "</table>\n",
       "</div>"
      ],
      "text/plain": [
       "   client_id  cons_price_idx  euribor_three_months\n",
       "0          0          93.994                 4.857\n",
       "1          1          93.994                 4.857\n",
       "2          2          93.994                 4.857\n",
       "3          3          93.994                 4.857\n",
       "4          4          93.994                 4.857\n",
       "5          5          93.994                 4.857\n",
       "6          6          93.994                 4.857\n",
       "7          7          93.994                 4.857\n",
       "8          8          93.994                 4.857\n",
       "9          9          93.994                 4.857"
      ]
     },
     "execution_count": 156,
     "metadata": {},
     "output_type": "execute_result"
    }
   ],
   "source": [
    "df_economics.head(10)"
   ]
  },
  {
   "cell_type": "markdown",
   "id": "f98d1d32-df04-4e3a-af76-3c16dc0cea8d",
   "metadata": {},
   "source": [
    "### Thus, we have successfully converted our one csv file into 3 with proper cleaning."
   ]
  }
 ],
 "metadata": {
  "kernelspec": {
   "display_name": "Python 3 (ipykernel)",
   "language": "python",
   "name": "python3"
  },
  "language_info": {
   "codemirror_mode": {
    "name": "ipython",
    "version": 3
   },
   "file_extension": ".py",
   "mimetype": "text/x-python",
   "name": "python",
   "nbconvert_exporter": "python",
   "pygments_lexer": "ipython3",
   "version": "3.12.4"
  }
 },
 "nbformat": 4,
 "nbformat_minor": 5
}
